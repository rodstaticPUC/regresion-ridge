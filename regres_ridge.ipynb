{
 "cells": [
  {
   "cell_type": "markdown",
   "metadata": {},
   "source": [
    "## Regresión Ridge (forma cerrada).--\n",
    "\n",
    "La regresión __Ridge__ o regresión __Tikhonov__, es una regresión lineal regularizada usando __L2__. Este termino de regularización se utiliza para mantener los pesos del modelo tan pequños como sea posible, al mismo tiempo que el algoritmo ajusta los datos.\n",
    "\n",
    "Termino de Regularización:\n",
    "\n",
    "$$ L2=\\alpha \\sum_{i=1}^{n}\\theta_{i}^{2}$$\n",
    "\n",
    "La función de coste (pérdida) añade el termino de regularización a la función de coste de la regresión lineal, es decir, los pesos del modelo se mantienen tan pequeños como sea posible.\n",
    "\n",
    "El hiper-parametro __alpha__, determina el equilibrio entre la regularizacion y la relevancia de la regresion lineal.\n",
    "\n",
    "El primer termino __theta__, no esta regularizado, ya que se quiere permitir que el parametro de desplazamiento (__intercept__) se mueva libremente.\n",
    "$$\n",
    "J\\left ( \\theta \\right )=\\frac{1}{n}\\sum_{i=1}^{n}\\left ( y^{i}-\\theta ^{T}x^{i} \\right )^{2}+\\alpha \\frac{1}{n}\\sum_{i=1}^{n}\\theta_{i}^{2} $$\n",
    "\n",
    "Es por esto que la sumatoria no comienza en cero. Los parametros de la pendiente (__coef__) pueden ser pequeños y mantener la necesaria pendiente del vector.\n",
    "\n",
    "Al usar la regularizacion se mantienen los pesos pequeños y asi el efecto de ruido y de valores aislados se minimizan.\n",
    "\n",
    "La regularización minimiza el sobreajuste y produce un modelo mas generalizado.\n",
    "\n",
    "La regresion __Ridge__ puede ser resuelta en base al enfoque de gradiente descendiente o usando su forma cerrada.\n",
    "\n",
    "Forma cerrada: $\\theta = \\left ( X^{T}X+\\alpha I \\right )^{-1}X^{T}y$\n",
    "\n",
    "\n",
    "El siguiente codigo genera un conjunto de 100 observaciones, incluyendo valores atipicos. Se añade al vector __X__ una columna de unos; con la finalidad de mantener el primer coeficiente no regularizado.\n",
    "El bucle __for__ ejecuta 2 regresiones __Ridge__\n",
    "\n",
    "- Primera no regularizada __alpha=0__\n",
    "- Segunda regularizada __(L2=1000)__\n",
    "\n",
    "Se implementa toda la regresion en forma cerrada en linea : __w=np.linalg.pinv((X.T@X+alpha*np.eye(2)))@X.T@y__\n",
    "El termino __np.eye(2)__, genera una matriz de identidad de dos dimensiones."
   ]
  },
  {
   "cell_type": "code",
   "execution_count": 1,
   "metadata": {},
   "outputs": [
    {
     "name": "stdout",
     "output_type": "stream",
     "text": [
      "[-1.12963078  1.12332282]\n",
      "[0.07776104 0.72632239]\n"
     ]
    },
    {
     "data": {
      "image/png": "[encoded data removed]",
      "text/plain": [
       "<Figure size 432x288 with 1 Axes>"
      ]
     },
     "metadata": {
      "needs_background": "light"
     },
     "output_type": "display_data"
    }
   ],
   "source": [
    "import numpy as np              \n",
    "import matplotlib.pyplot as plt \n",
    "\n",
    "N = 100  # numero de obs                    \n",
    "X = np.linspace(0,10,N)       \n",
    "y = 0.8*X + np.random.randn(N)  \n",
    "for i in range(1,4):\n",
    "    y[-i]+=20-i   # insertando datos atipicos\n",
    "\n",
    "\n",
    "X = np.vstack([np.ones(N), X]).T       \n",
    "\n",
    "for alpha,color,label in zip([0,1000],['k','red'],['no regularizada','alpha = 1000']): \n",
    "    #  Regresion Ridge\n",
    "       \n",
    "    w = np.linalg.pinv((X.T@X+alpha*np.eye(2)))@X.T@y    \n",
    "    y_result = X@w \n",
    "    plt.plot(X[:,1],y_result, color=color, label=label)\n",
    "    print(w)\n",
    "    \n",
    "plt.scatter(X[:,1], y, color='y')\n",
    "plt.title(' Regresion Ridge')\n",
    "plt.legend();plt.grid()\n",
    "plt.show()"
   ]
  }
 ],
 "metadata": {
  "interpreter": {
   "hash": "dab5f78c899121fc520d90b9351b3b5e2033dcf7810edf78f8fb14343cfb7042"
  },
  "kernelspec": {
   "display_name": "Python 3.9.7 64-bit ('base': conda)",
   "language": "python",
   "name": "python3"
  },
  "language_info": {
   "codemirror_mode": {
    "name": "ipython",
    "version": 3
   },
   "file_extension": ".py",
   "mimetype": "text/x-python",
   "name": "python",
   "nbconvert_exporter": "python",
   "pygments_lexer": "ipython3",
   "version": "3.9.7"
  },
  "orig_nbformat": 4
 },
 "nbformat": 4,
 "nbformat_minor": 2
}
